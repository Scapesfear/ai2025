{
 "cells": [
  {
   "cell_type": "code",
   "execution_count": null,
   "id": "8bc4ad65",
   "metadata": {},
   "outputs": [],
   "source": [
    "import import_ipynb"
   ]
  },
  {
   "cell_type": "code",
   "execution_count": null,
   "id": "c75619cc",
   "metadata": {},
   "outputs": [],
   "source": [
    "from farmer_env import FarmerWolfGooseGrainEnv"
   ]
  },
  {
   "cell_type": "code",
   "execution_count": null,
   "id": "2d868c37",
   "metadata": {},
   "outputs": [],
   "source": [
    "from search_algorithms import generate_and_test_search"
   ]
  },
  {
   "cell_type": "code",
   "execution_count": null,
   "id": "c3e57d14",
   "metadata": {},
   "outputs": [],
   "source": [
    "fnv=FarmerWolfGooseGrainEnv()"
   ]
  },
  {
   "cell_type": "code",
   "execution_count": null,
   "id": "21ff8cb7",
   "metadata": {},
   "outputs": [],
   "source": [
    "generate_and_test_search(fnv)"
   ]
  },
  {
   "cell_type": "code",
   "execution_count": null,
   "id": "ad83afcf",
   "metadata": {},
   "outputs": [],
   "source": [
    "from search_algorithms import generate_and_test_search_with_visited_list"
   ]
  },
  {
   "cell_type": "code",
   "execution_count": null,
   "id": "8e5731be",
   "metadata": {},
   "outputs": [],
   "source": [
    "generate_and_test_search_with_visited_list(fnv)"
   ]
  },
  {
   "cell_type": "code",
   "execution_count": null,
   "id": "2a5517d5",
   "metadata": {},
   "outputs": [],
   "source": [
    "from eight_tiles_env import EightTilesEnv"
   ]
  },
  {
   "cell_type": "code",
   "execution_count": null,
   "id": "30cbe511",
   "metadata": {},
   "outputs": [],
   "source": [
    "env=EightTilesEnv()"
   ]
  },
  {
   "cell_type": "code",
   "execution_count": null,
   "id": "57d97b49",
   "metadata": {},
   "outputs": [],
   "source": [
    "generate_and_test_search(env,max_iterations=1000)"
   ]
  },
  {
   "cell_type": "code",
   "execution_count": null,
   "id": "375a1b98",
   "metadata": {},
   "outputs": [],
   "source": [
    "generate_and_test_search_with_visited_list(env,max_iterations=10000)"
   ]
  },
  {
   "cell_type": "code",
   "execution_count": null,
   "id": "5f536f22",
   "metadata": {},
   "outputs": [],
   "source": [
    "from search_env import astar_search"
   ]
  },
  {
   "cell_type": "code",
   "execution_count": null,
   "id": "cb4a0cc8",
   "metadata": {},
   "outputs": [],
   "source": [
    "astar_search(env)"
   ]
  },
  {
   "cell_type": "code",
   "execution_count": null,
   "id": "ab456a3a",
   "metadata": {},
   "outputs": [],
   "source": []
  }
 ],
 "metadata": {
  "kernelspec": {
   "display_name": "py310exp",
   "language": "python",
   "name": "python3"
  },
  "language_info": {
   "codemirror_mode": {
    "name": "ipython",
    "version": 3
   },
   "file_extension": ".py",
   "mimetype": "text/x-python",
   "name": "python",
   "nbconvert_exporter": "python",
   "pygments_lexer": "ipython3",
   "version": "3.10.14"
  }
 },
 "nbformat": 4,
 "nbformat_minor": 5
}
