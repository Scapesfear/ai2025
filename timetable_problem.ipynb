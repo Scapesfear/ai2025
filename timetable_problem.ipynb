{
 "cells": [
  {
   "cell_type": "code",
   "execution_count": null,
   "id": "5d4297b1",
   "metadata": {},
   "outputs": [],
   "source": [
    "import random"
   ]
  },
  {
   "cell_type": "code",
   "execution_count": 7,
   "id": "fa5ac314",
   "metadata": {},
   "outputs": [],
   "source": [
    "class ExamTimetableEnv:\n",
    "    def __init__(self, courses, rooms, conflicts):\n",
    "        self.courses = courses  # {course: size}\n",
    "        self.rooms = rooms      # [(room,capacity)]\n",
    "        self.conflicts = conflicts  # {(c1,c2): overlap}\n",
    "        self.timeslots = [\"T1\",\"T2\"]\n",
    "\n",
    "    def initial_state(self):\n",
    "        return {c: (random.choice(self.timeslots), random.choice(self.rooms)[0]) \n",
    "                for c in self.courses}\n",
    "\n",
    "    def neighbours(self, state):\n",
    "        neighs = []\n",
    "        for c in self.courses:\n",
    "            for t in self.timeslots:\n",
    "                for r,_ in self.rooms:\n",
    "                    if (t,r) != state[c]:\n",
    "                        new = dict(state); new[c] = (t,r)\n",
    "                        neighs.append(new)\n",
    "        return neighs\n",
    "\n",
    "    def random_neighbour(self, state):\n",
    "        c = random.choice(list(self.courses))\n",
    "        t = random.choice(self.timeslots)\n",
    "        r = random.choice(self.rooms)[0]\n",
    "        new = dict(state); new[c] = (t,r)\n",
    "        return new\n",
    "\n",
    "    def cost(self, state):\n",
    "        clash_penalty, overflow_penalty = 10, 5\n",
    "        cost = 0\n",
    "        for (c1,c2), ov in self.conflicts.items():\n",
    "            if state[c1][0] == state[c2][0]:\n",
    "                cost += clash_penalty * ov\n",
    "        for (t,r) in {(ts,rm) for ts,rm in state.values()}:\n",
    "            assigned = [c for c,v in state.items() if v==(t,r)]\n",
    "            cap = next(cap for rr,cap in self.rooms if rr==r)\n",
    "            used = sum(self.courses[c] for c in assigned)\n",
    "            if used > cap:\n",
    "                cost += overflow_penalty * (used-cap)\n",
    "        return cost\n",
    "\n",
    "    @staticmethod\n",
    "    def random_instance(n_courses=5, n_rooms=2, max_size=50, seed=None):\n",
    "        random.seed(seed)\n",
    "        courses = {f\"C{i+1}\": random.randint(10,max_size) for i in range(n_courses)}\n",
    "        rooms = [(f\"R{j+1}\", random.randint(20,max_size)) for j in range(n_rooms)]\n",
    "        conflicts = {}\n",
    "        cl = list(courses)\n",
    "        for _ in range(n_courses):\n",
    "            c1,c2 = random.sample(cl,2)\n",
    "            conflicts[(c1,c2)] = random.randint(1, min(courses[c1],courses[c2])//2)\n",
    "        return ExamTimetableEnv(courses, rooms, conflicts)\n"
   ]
  },
  {
   "cell_type": "code",
   "execution_count": null,
   "id": "8503922d",
   "metadata": {},
   "outputs": [],
   "source": []
  }
 ],
 "metadata": {
  "kernelspec": {
   "display_name": "py310",
   "language": "python",
   "name": "python3"
  },
  "language_info": {
   "codemirror_mode": {
    "name": "ipython",
    "version": 3
   },
   "file_extension": ".py",
   "mimetype": "text/x-python",
   "name": "python",
   "nbconvert_exporter": "python",
   "pygments_lexer": "ipython3",
   "version": "3.10.14"
  }
 },
 "nbformat": 4,
 "nbformat_minor": 5
}
