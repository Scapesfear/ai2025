{
 "cells": [
  {
   "cell_type": "code",
   "execution_count": null,
   "id": "8bc4ad65",
   "metadata": {},
   "outputs": [],
   "source": [
    "import import_ipynb"
   ]
  },
  {
   "cell_type": "code",
   "execution_count": null,
   "id": "7aac291b",
   "metadata": {},
   "outputs": [],
   "source": [
    "from more_search_algorithms import dfs_search, bfs_search, astar_search, heuristic1, heuristic2"
   ]
  },
  {
   "cell_type": "code",
   "execution_count": null,
   "id": "caeb9750",
   "metadata": {},
   "outputs": [],
   "source": [
    "from graph_env import RandomGraphSearchEnv"
   ]
  },
  {
   "cell_type": "code",
   "execution_count": null,
   "id": "f33d7db4",
   "metadata": {},
   "outputs": [],
   "source": [
    "gnv=RandomGraphSearchEnv(10,3)"
   ]
  },
  {
   "cell_type": "code",
   "execution_count": null,
   "id": "ec099cc2",
   "metadata": {},
   "outputs": [],
   "source": [
    "bfs_search(gnv)"
   ]
  },
  {
   "cell_type": "code",
   "execution_count": null,
   "id": "1bba2984",
   "metadata": {},
   "outputs": [],
   "source": [
    "dfs_search(gnv)"
   ]
  },
  {
   "cell_type": "code",
   "execution_count": null,
   "id": "8279ba8d",
   "metadata": {},
   "outputs": [],
   "source": [
    "astar_search(gnv)"
   ]
  },
  {
   "cell_type": "code",
   "execution_count": null,
   "id": "2a5517d5",
   "metadata": {},
   "outputs": [],
   "source": [
    "from eight_tiles_env import EightTilesEnv"
   ]
  },
  {
   "cell_type": "code",
   "execution_count": null,
   "id": "30cbe511",
   "metadata": {},
   "outputs": [],
   "source": [
    "env=EightTilesEnv()"
   ]
  },
  {
   "cell_type": "code",
   "execution_count": null,
   "id": "ab456a3a",
   "metadata": {},
   "outputs": [],
   "source": [
    "astar_search(env)"
   ]
  },
  {
   "cell_type": "code",
   "execution_count": null,
   "id": "6c558343",
   "metadata": {},
   "outputs": [],
   "source": [
    "astar_search(env,heuristic1)"
   ]
  },
  {
   "cell_type": "code",
   "execution_count": null,
   "id": "d282b3b3",
   "metadata": {},
   "outputs": [],
   "source": [
    "astar_search(env,heuristic2)"
   ]
  },
  {
   "cell_type": "code",
   "execution_count": null,
   "id": "7b979215",
   "metadata": {},
   "outputs": [],
   "source": []
  }
 ],
 "metadata": {
  "kernelspec": {
   "display_name": "py310exp",
   "language": "python",
   "name": "python3"
  },
  "language_info": {
   "codemirror_mode": {
    "name": "ipython",
    "version": 3
   },
   "file_extension": ".py",
   "mimetype": "text/x-python",
   "name": "python",
   "nbconvert_exporter": "python",
   "pygments_lexer": "ipython3",
   "version": "3.10.14"
  }
 },
 "nbformat": 4,
 "nbformat_minor": 5
}
