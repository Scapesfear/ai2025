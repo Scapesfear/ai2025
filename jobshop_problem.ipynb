{
 "cells": [
  {
   "cell_type": "code",
   "execution_count": 3,
   "id": "a86a98b5",
   "metadata": {},
   "outputs": [],
   "source": [
    "import random\n",
    "import import_ipynb"
   ]
  },
  {
   "cell_type": "code",
   "execution_count": null,
   "id": "80054c36",
   "metadata": {},
   "outputs": [],
   "source": [
    "class JobShopEnv:\n",
    "    def __init__(self, jobs):\n",
    "        self.jobs = jobs  # dict {job: [(machine,time),...]}\n",
    "\n",
    "    def initial_state(self):\n",
    "        seq = []\n",
    "        for j, ops in self.jobs.items():\n",
    "            seq += [j]*len(ops)\n",
    "        random.shuffle(seq)\n",
    "        return seq\n",
    "\n",
    "    def neighbours(self, seq):\n",
    "        neighs = []\n",
    "        for i in range(len(seq)-1):\n",
    "            n = seq.copy()\n",
    "            n[i], n[i+1] = n[i+1], n[i]\n",
    "            neighs.append(n)\n",
    "        return neighs\n",
    "\n",
    "    def random_neighbour(self, seq):\n",
    "        if len(seq) < 2: return seq\n",
    "        i, j = random.sample(range(len(seq)), 2)\n",
    "        n = seq.copy()\n",
    "        n[i], n[j] = n[j], n[i]\n",
    "        return n\n",
    "\n",
    "    def cost(self, seq):\n",
    "        machine_time, job_step, job_time = {}, {}, {}\n",
    "        for job in self.jobs: job_step[job] = 0\n",
    "        for job in seq:\n",
    "            step = job_step[job]; mach, t = self.jobs[job][step]\n",
    "            start = max(job_time.get(job,0), machine_time.get(mach,0))\n",
    "            finish = start + t\n",
    "            job_time[job] = finish; machine_time[mach] = finish\n",
    "            job_step[job] += 1\n",
    "        return max(job_time.values())\n",
    "\n",
    "    @staticmethod\n",
    "    def random_instance(n_jobs=4, n_machines=3, max_ops=3, max_time=5, seed=None):\n",
    "        random.seed(seed)\n",
    "        jobs = {}\n",
    "        for j in range(n_jobs):\n",
    "            n_ops = random.randint(2, max_ops)\n",
    "            ops = [(random.randint(1,n_machines), random.randint(1,max_time)) \n",
    "                   for _ in range(n_ops)]\n",
    "            jobs[f\"J{j+1}\"] = ops\n",
    "        return JobShopEnv(jobs)\n"
   ]
  }
 ],
 "metadata": {
  "kernelspec": {
   "display_name": "py310",
   "language": "python",
   "name": "python3"
  },
  "language_info": {
   "codemirror_mode": {
    "name": "ipython",
    "version": 3
   },
   "file_extension": ".py",
   "mimetype": "text/x-python",
   "name": "python",
   "nbconvert_exporter": "python",
   "pygments_lexer": "ipython3",
   "version": "3.10.14"
  }
 },
 "nbformat": 4,
 "nbformat_minor": 5
}
