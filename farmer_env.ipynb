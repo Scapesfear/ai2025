{
 "cells": [
  {
   "cell_type": "code",
   "execution_count": null,
   "id": "b4d8f7ef",
   "metadata": {},
   "outputs": [],
   "source": [
    "# import gym\n",
    "# from gym import spaces\n",
    "import import_ipynb\n",
    "from search_env_base import SearchEnv"
   ]
  },
  {
   "cell_type": "code",
   "execution_count": null,
   "id": "abc14600",
   "metadata": {},
   "outputs": [],
   "source": [
    "class FarmerWolfGooseGrainEnv(SearchEnv):\n",
    "    \"\"\"\n",
    "    Environment for the Farmer, Wolf, Goose, and Grain river crossing puzzle.\n",
    "    State is a tuple of two tuples: (left_bank, right_bank), each a tuple of entities on that side.\n",
    "    Entities: 'F' (farmer), 'W' (wolf), 'G' (goose), 'R' (grain)\n",
    "    The farmer can take one item/animal at a time. Cannot leave goose and grain or wolf and goose alone.\n",
    "    \"\"\"\n",
    "    ENTITIES = ('F', 'W', 'G', 'R')\n",
    "\n",
    "    def __init__(self):\n",
    "        # All start on the left bank\n",
    "        start_state = (('F', 'W', 'G', 'R'), ())\n",
    "        goal_state = ((), ('F', 'W', 'G', 'R'))\n",
    "        super().__init__(start_state, goal_state)\n",
    "        self.state = start_state\n",
    "        # self.action_space = None  # Not used\n",
    "        # self.observation_space = None  # Not used\n",
    "\n",
    "    def is_valid(self, state):\n",
    "        \"\"\"Check if the state is valid (no forbidden pairings).\"\"\"\n",
    "        for bank in state:\n",
    "            bank_set = set(bank)\n",
    "            # If farmer is not present, check for forbidden pairs\n",
    "            if 'F' not in bank_set:\n",
    "                if 'W' in bank_set and 'G' in bank_set:\n",
    "                    return False  # Wolf eats goose\n",
    "                if 'G' in bank_set and 'R' in bank_set:\n",
    "                    return False  # Goose eats grain\n",
    "        return True\n",
    "\n",
    "    def get_reachable_states(self, state=None):\n",
    "        \"\"\"\n",
    "        Return a list of valid next states reachable from the current state.\n",
    "        \"\"\"\n",
    "        if state is None:\n",
    "            state = self.state\n",
    "        left, right = state\n",
    "        # Determine which side the farmer is on\n",
    "        if 'F' in left:\n",
    "            from_bank, to_bank = list(left), list(right)\n",
    "            from_idx, to_idx = 0, 1\n",
    "        else:\n",
    "            from_bank, to_bank = list(right), list(left)\n",
    "            from_idx, to_idx = 1, 0\n",
    "        moves = []\n",
    "        # Farmer can cross alone\n",
    "        new_from = from_bank.copy()\n",
    "        new_to = to_bank.copy()\n",
    "        new_from.remove('F')\n",
    "        new_to.append('F')\n",
    "        new_state = [None, None]\n",
    "        new_state[from_idx] = tuple(sorted(new_from))\n",
    "        new_state[to_idx] = tuple(sorted(new_to))\n",
    "        new_state = tuple(new_state)\n",
    "        if self.is_valid(new_state):\n",
    "            moves.append(new_state)\n",
    "        # Farmer can take one other entity\n",
    "        for entity in from_bank:\n",
    "            if entity == 'F':\n",
    "                continue\n",
    "            new_from = from_bank.copy()\n",
    "            new_to = to_bank.copy()\n",
    "            new_from.remove('F')\n",
    "            new_from.remove(entity)\n",
    "            new_to.append('F')\n",
    "            new_to.append(entity)\n",
    "            new_state = [None, None]\n",
    "            new_state[from_idx] = tuple(sorted(new_from))\n",
    "            new_state[to_idx] = tuple(sorted(new_to))\n",
    "            new_state = tuple(new_state)\n",
    "            if self.is_valid(new_state):\n",
    "                moves.append(new_state)\n",
    "        return moves\n",
    "\n",
    "    def step(self, action):\n",
    "        \"\"\"\n",
    "        Action is the next state to move to (must be in get_reachable_states).\n",
    "        Returns: next_state, reward, done, info\n",
    "        \"\"\"\n",
    "        if action not in self.get_reachable_states(self.state):\n",
    "            reward = -1.0  # Penalty for invalid move\n",
    "            done = False\n",
    "            info = {'invalid': True}\n",
    "            return self.state, reward, done, info\n",
    "        self.state = action\n",
    "        done = self.state == self.goal_state\n",
    "        reward = 1.0 if done else 0.0\n",
    "        info = {'reachable': self.get_reachable_states(self.state)}\n",
    "        return self.state, reward, done, info\n",
    "\n",
    "    def reset(self):\n",
    "        self.state = (('F', 'W', 'G', 'R'), ())\n",
    "        return self.state\n",
    "\n",
    "    def render(self, mode='human'):\n",
    "        left, right = self.state\n",
    "        print(f\"Left bank: {left}\")\n",
    "        print(f\"Right bank: {right}\")\n",
    "        print(f\"Farmer is on the {'left' if 'F' in left else 'right'} bank.\")\n",
    "\n",
    "    def cost(self, from_state, to_state):\n",
    "        \"\"\"Return the cost of moving from from_state to to_state (always 1.0 for valid moves).\"\"\"\n",
    "        return 1.0\n",
    "\n",
    "    def is_goal(self, state):\n",
    "        \"\"\"Check if the state is a goal state using set equality for both banks.\"\"\"\n",
    "        left, right = state\n",
    "        goal_left, goal_right = self.goal_state\n",
    "        return set(left) == set(goal_left) and set(right) == set(goal_right)"
   ]
  },
  {
   "cell_type": "code",
   "execution_count": null,
   "id": "ca9122c8",
   "metadata": {},
   "outputs": [],
   "source": [
    "#TEST\n",
    "# fnv=FarmerWolfGooseGrainEnv()"
   ]
  },
  {
   "cell_type": "code",
   "execution_count": null,
   "id": "491d9780",
   "metadata": {},
   "outputs": [],
   "source": [
    "# fnv.reset()"
   ]
  },
  {
   "cell_type": "code",
   "execution_count": null,
   "id": "aa64a0f2",
   "metadata": {},
   "outputs": [],
   "source": [
    "# actions=fnv.get_reachable_states()"
   ]
  },
  {
   "cell_type": "code",
   "execution_count": null,
   "id": "d34561eb",
   "metadata": {},
   "outputs": [],
   "source": [
    "# actions"
   ]
  },
  {
   "cell_type": "code",
   "execution_count": null,
   "id": "12d1f453",
   "metadata": {},
   "outputs": [],
   "source": [
    "# fnv.step(action=actions[0])"
   ]
  },
  {
   "cell_type": "code",
   "execution_count": null,
   "id": "3a5073e0",
   "metadata": {},
   "outputs": [],
   "source": []
  }
 ],
 "metadata": {
  "kernelspec": {
   "display_name": "py310exp",
   "language": "python",
   "name": "python3"
  },
  "language_info": {
   "codemirror_mode": {
    "name": "ipython",
    "version": 3
   },
   "file_extension": ".py",
   "mimetype": "text/x-python",
   "name": "python",
   "nbconvert_exporter": "python",
   "pygments_lexer": "ipython3",
   "version": "3.10.14"
  }
 },
 "nbformat": 4,
 "nbformat_minor": 5
}
