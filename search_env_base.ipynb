{
 "cells": [
  {
   "cell_type": "code",
   "execution_count": null,
   "id": "dab8fdc5",
   "metadata": {},
   "outputs": [],
   "source": [
    "# import gym\n",
    "# from gym import spaces"
   ]
  },
  {
   "cell_type": "code",
   "execution_count": null,
   "id": "f3c04f2b",
   "metadata": {},
   "outputs": [],
   "source": [
    "class SearchEnv():\n",
    "    \"\"\"\n",
    "    Base environment for search algorithms. The state is the current node, and the action is the next node to move to.\n",
    "    The environment must provide the list of reachable next states from the current state.\n",
    "    \"\"\"\n",
    "    metadata = {'render.modes': ['human']}\n",
    "\n",
    "    def __init__(self, start_state, goal_state):\n",
    "        super(SearchEnv, self).__init__()\n",
    "        self.start_state = start_state\n",
    "        self.goal_state = goal_state\n",
    "        self.state = start_state\n",
    "        # self.action_space = None  # To be defined in subclass\n",
    "        # self.observation_space = None  # To be defined in subclass\n",
    "\n",
    "    def get_reachable_states(self, state):\n",
    "        \"\"\"Return a list of states reachable from the given state.\"\"\"\n",
    "        raise NotImplementedError\n",
    "\n",
    "    def step(self, action):\n",
    "        \"\"\"\n",
    "        Take an action (move to the next state).\n",
    "        Returns: next_state, reward, done, info\n",
    "        \"\"\"\n",
    "        raise NotImplementedError\n",
    "\n",
    "    def reset(self):\n",
    "        self.state = self.start_state\n",
    "        return self.state\n",
    "\n",
    "    def render(self, mode='human'):\n",
    "        print(f\"Current state: {self.state}\")\n",
    "\n",
    "    def is_goal(self, state):\n",
    "        \"\"\"Return True if the given state is a goal state.\"\"\"\n",
    "        return state == self.goal_state"
   ]
  },
  {
   "cell_type": "code",
   "execution_count": null,
   "id": "48a9a8c8",
   "metadata": {},
   "outputs": [],
   "source": []
  }
 ],
 "metadata": {
  "kernelspec": {
   "display_name": "py310exp",
   "language": "python",
   "name": "python3"
  },
  "language_info": {
   "codemirror_mode": {
    "name": "ipython",
    "version": 3
   },
   "file_extension": ".py",
   "mimetype": "text/x-python",
   "name": "python",
   "nbconvert_exporter": "python",
   "pygments_lexer": "ipython3",
   "version": "3.10.14"
  }
 },
 "nbformat": 4,
 "nbformat_minor": 5
}
